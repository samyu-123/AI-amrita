{
  "nbformat": 4,
  "nbformat_minor": 0,
  "metadata": {
    "colab": {
      "name": "numpy tutorial.ipynb",
      "provenance": [],
      "collapsed_sections": [],
      "include_colab_link": true
    },
    "kernelspec": {
      "name": "python3",
      "display_name": "Python 3"
    },
    "language_info": {
      "name": "python"
    }
  },
  "cells": [
    {
      "cell_type": "markdown",
      "metadata": {
        "id": "view-in-github",
        "colab_type": "text"
      },
      "source": [
        "<a href=\"https://colab.research.google.com/github/samyu-123/AI-amrita/blob/main/numpy_tutorial.ipynb\" target=\"_parent\"><img src=\"https://colab.research.google.com/assets/colab-badge.svg\" alt=\"Open In Colab\"/></a>"
      ]
    },
    {
      "cell_type": "markdown",
      "metadata": {
        "id": "arAvxDN8cyyW"
      },
      "source": [
        "**Numpy Tutorial :-**"
      ]
    },
    {
      "cell_type": "code",
      "metadata": {
        "id": "Te12SbIlc69u"
      },
      "source": [
        "import numpy as np"
      ],
      "execution_count": null,
      "outputs": []
    },
    {
      "cell_type": "markdown",
      "metadata": {
        "id": "fFVyC1u6c96K"
      },
      "source": [
        "**Lists**"
      ]
    },
    {
      "cell_type": "code",
      "metadata": {
        "colab": {
          "base_uri": "https://localhost:8080/"
        },
        "id": "RXadwCttdCJ_",
        "outputId": "cc3bc282-2827-4a33-b415-4be0eaec8091"
      },
      "source": [
        "PythonList = [11,91,84,32]\n",
        "print(PythonList)"
      ],
      "execution_count": null,
      "outputs": [
        {
          "output_type": "stream",
          "text": [
            "[11, 91, 84, 32]\n"
          ],
          "name": "stdout"
        }
      ]
    },
    {
      "cell_type": "markdown",
      "metadata": {
        "id": "ZV61iC5TdGSh"
      },
      "source": [
        "**Numpy**"
      ]
    },
    {
      "cell_type": "code",
      "metadata": {
        "colab": {
          "base_uri": "https://localhost:8080/"
        },
        "id": "VNsZS_4-dLf9",
        "outputId": "8d33159e-7684-4595-80fd-808fe362424a"
      },
      "source": [
        "numpy_array = np.array(PythonList)\n",
        "numpy_array"
      ],
      "execution_count": null,
      "outputs": [
        {
          "output_type": "execute_result",
          "data": {
            "text/plain": [
              "array([11, 91, 84, 32])"
            ]
          },
          "metadata": {
            "tags": []
          },
          "execution_count": 7
        }
      ]
    },
    {
      "cell_type": "code",
      "metadata": {
        "colab": {
          "base_uri": "https://localhost:8080/"
        },
        "id": "Fv0BQpX8dOxd",
        "outputId": "735cd1c5-f89a-491d-b9a8-7b9cfc414b82"
      },
      "source": [
        "a = numpy_array+20\n",
        "print(a)\n"
      ],
      "execution_count": null,
      "outputs": [
        {
          "output_type": "stream",
          "text": [
            "[ 31 111 104  52]\n"
          ],
          "name": "stdout"
        }
      ]
    },
    {
      "cell_type": "code",
      "metadata": {
        "colab": {
          "base_uri": "https://localhost:8080/"
        },
        "id": "SK-uU5kCdZ_x",
        "outputId": "87e16699-4feb-4cfe-ba2f-6b2b9505c15a"
      },
      "source": [
        "a = np.array([11,51,90])\n",
        "print(a)"
      ],
      "execution_count": null,
      "outputs": [
        {
          "output_type": "stream",
          "text": [
            "[11 51 90]\n"
          ],
          "name": "stdout"
        }
      ]
    },
    {
      "cell_type": "code",
      "metadata": {
        "colab": {
          "base_uri": "https://localhost:8080/"
        },
        "id": "Ake6NZWwdcyX",
        "outputId": "fa235a4f-81af-4401-ee43-2158dcf069ad"
      },
      "source": [
        "b = a +30\n",
        "print(b)"
      ],
      "execution_count": null,
      "outputs": [
        {
          "output_type": "stream",
          "text": [
            "[ 41  81 120]\n"
          ],
          "name": "stdout"
        }
      ]
    },
    {
      "cell_type": "code",
      "metadata": {
        "colab": {
          "base_uri": "https://localhost:8080/"
        },
        "id": "l1lRflsNdgEs",
        "outputId": "a2d3312b-5546-4a94-d0a6-2cdc01b26586"
      },
      "source": [
        "print(a.shape)\n",
        "print(a.dtype)"
      ],
      "execution_count": null,
      "outputs": [
        {
          "output_type": "stream",
          "text": [
            "(3,)\n",
            "int64\n"
          ],
          "name": "stdout"
        }
      ]
    },
    {
      "cell_type": "code",
      "metadata": {
        "colab": {
          "base_uri": "https://localhost:8080/"
        },
        "id": "ggeF4mlgdhto",
        "outputId": "08bb9738-8552-4d9f-e72e-75313d435efa"
      },
      "source": [
        "c = np.array([(11,22,8,0),\n",
        "              (41,52,6,10)])\n",
        "print(c)"
      ],
      "execution_count": null,
      "outputs": [
        {
          "output_type": "stream",
          "text": [
            "[[11 22  8  0]\n",
            " [41 52  6 10]]\n"
          ],
          "name": "stdout"
        }
      ]
    },
    {
      "cell_type": "code",
      "metadata": {
        "colab": {
          "base_uri": "https://localhost:8080/"
        },
        "id": "-yD-XdYUdmGt",
        "outputId": "fb99f7ee-18aa-4cf0-9a63-e4ad50cb7e99"
      },
      "source": [
        "d = np.array([\n",
        "    [[1, 2,3],\n",
        "        [4, 5, 6]],\n",
        "      [[7, 8,9],\n",
        "        [10, 11, 12]]\n",
        "])\n",
        "print(d.shape)"
      ],
      "execution_count": null,
      "outputs": [
        {
          "output_type": "stream",
          "text": [
            "(2, 2, 3)\n"
          ],
          "name": "stdout"
        }
      ]
    },
    {
      "cell_type": "markdown",
      "metadata": {
        "id": "QiEIJZyJdzeA"
      },
      "source": [
        "**TO PRINT 3 ROWS 3 COULMNS OF ZEROS**"
      ]
    },
    {
      "cell_type": "code",
      "metadata": {
        "colab": {
          "base_uri": "https://localhost:8080/"
        },
        "id": "5cnQROWOd2Vs",
        "outputId": "91b39dd9-c934-4d3c-964c-092890dade6f"
      },
      "source": [
        "x=np.ones((3,3), dtype=np.int16)\n",
        "print(x)"
      ],
      "execution_count": null,
      "outputs": [
        {
          "output_type": "stream",
          "text": [
            "[[1 1 1]\n",
            " [1 1 1]\n",
            " [1 1 1]]\n"
          ],
          "name": "stdout"
        }
      ]
    },
    {
      "cell_type": "markdown",
      "metadata": {
        "id": "OpXOOwghd-js"
      },
      "source": [
        "**TO PRINT 3 TIMES OF 2 ROWS 4 COLUMNS OF ONES**"
      ]
    },
    {
      "cell_type": "code",
      "metadata": {
        "colab": {
          "base_uri": "https://localhost:8080/"
        },
        "id": "A5Rrt3hOeA_O",
        "outputId": "12021db6-6ce9-40f3-9e39-7c2175271e30"
      },
      "source": [
        "y=np.ones((3,2,4), dtype=np.int16)\n",
        "print(y)"
      ],
      "execution_count": null,
      "outputs": [
        {
          "output_type": "stream",
          "text": [
            "[[[1 1 1 1]\n",
            "  [1 1 1 1]]\n",
            "\n",
            " [[1 1 1 1]\n",
            "  [1 1 1 1]]\n",
            "\n",
            " [[1 1 1 1]\n",
            "  [1 1 1 1]]]\n"
          ],
          "name": "stdout"
        }
      ]
    },
    {
      "cell_type": "markdown",
      "metadata": {
        "id": "jq8hdJB7eIZ2"
      },
      "source": [
        "**RESHAPE TO 1 ELEMENT LISTS**"
      ]
    },
    {
      "cell_type": "code",
      "metadata": {
        "colab": {
          "base_uri": "https://localhost:8080/"
        },
        "id": "TJMFwTZOeLjN",
        "outputId": "3a5eead3-400a-4bd8-b98a-7dbe2c158c6f"
      },
      "source": [
        "e  = np.array([(1,2,3), (4,5,6)])\n",
        "print(e)\n",
        "e.reshape(3,2)"
      ],
      "execution_count": null,
      "outputs": [
        {
          "output_type": "stream",
          "text": [
            "[[1 2 3]\n",
            " [4 5 6]]\n"
          ],
          "name": "stdout"
        },
        {
          "output_type": "execute_result",
          "data": {
            "text/plain": [
              "array([[1, 2],\n",
              "       [3, 4],\n",
              "       [5, 6]])"
            ]
          },
          "metadata": {
            "tags": []
          },
          "execution_count": 16
        }
      ]
    },
    {
      "cell_type": "code",
      "metadata": {
        "colab": {
          "base_uri": "https://localhost:8080/"
        },
        "id": "nSy6imVceRsV",
        "outputId": "6448b359-9f9a-4a81-8d4e-76cd6064cead"
      },
      "source": [
        "print(e)"
      ],
      "execution_count": null,
      "outputs": [
        {
          "output_type": "stream",
          "text": [
            "[[1 2 3]\n",
            " [4 5 6]]\n"
          ],
          "name": "stdout"
        }
      ]
    },
    {
      "cell_type": "code",
      "metadata": {
        "colab": {
          "base_uri": "https://localhost:8080/"
        },
        "id": "KaNqG6AKeWwX",
        "outputId": "a2360e44-f022-48eb-e738-b9f225eaedc4"
      },
      "source": [
        "print('First row:', e[0])\n",
        "print('Second row:', e[1])"
      ],
      "execution_count": null,
      "outputs": [
        {
          "output_type": "stream",
          "text": [
            "First row: [1 2 3]\n",
            "Second row: [4 5 6]\n"
          ],
          "name": "stdout"
        }
      ]
    },
    {
      "cell_type": "code",
      "metadata": {
        "colab": {
          "base_uri": "https://localhost:8080/"
        },
        "id": "LgSbj3k9eaHt",
        "outputId": "c1ab684d-f3f2-45a8-b2f5-fb25fd538ede"
      },
      "source": [
        "print('Second column:', e[:,1])"
      ],
      "execution_count": null,
      "outputs": [
        {
          "output_type": "stream",
          "text": [
            "Second column: [2 5]\n"
          ],
          "name": "stdout"
        }
      ]
    },
    {
      "cell_type": "code",
      "metadata": {
        "colab": {
          "base_uri": "https://localhost:8080/"
        },
        "id": "n3fqxRfjedgL",
        "outputId": "b6811a9e-bd22-4765-986e-20f252e6f7cf"
      },
      "source": [
        "print(e[1, :2])"
      ],
      "execution_count": null,
      "outputs": [
        {
          "output_type": "stream",
          "text": [
            "[4 5]\n"
          ],
          "name": "stdout"
        }
      ]
    },
    {
      "cell_type": "code",
      "metadata": {
        "colab": {
          "base_uri": "https://localhost:8080/"
        },
        "id": "4kly4E8kegji",
        "outputId": "024e14f2-4d03-4532-9572-25b39dbe2c0d"
      },
      "source": [
        "e.flatten()"
      ],
      "execution_count": null,
      "outputs": [
        {
          "output_type": "execute_result",
          "data": {
            "text/plain": [
              "array([1, 2, 3, 4, 5, 6])"
            ]
          },
          "metadata": {
            "tags": []
          },
          "execution_count": 21
        }
      ]
    },
    {
      "cell_type": "markdown",
      "metadata": {
        "id": "NCDc_nYTeiTi"
      },
      "source": [
        "**HORITONTAL AND VERTICAL STACK**"
      ]
    },
    {
      "cell_type": "code",
      "metadata": {
        "colab": {
          "base_uri": "https://localhost:8080/"
        },
        "id": "Ce-Kchl7enF0",
        "outputId": "477bde0b-e850-4e10-ba79-3c865c0d10b9"
      },
      "source": [
        "f = np.array([1,2,3])\n",
        "g = np.array([4,5,6])\n",
        "print('Horizontal Append:', np.hstack((f, g)))\n",
        "print(\"Vertical append:\")\n",
        "print(np.vstack((f,g)))"
      ],
      "execution_count": null,
      "outputs": [
        {
          "output_type": "stream",
          "text": [
            "Horizontal Append: [1 2 3 4 5 6]\n",
            "Vertical append:\n",
            "[[1 2 3]\n",
            " [4 5 6]]\n"
          ],
          "name": "stdout"
        }
      ]
    },
    {
      "cell_type": "markdown",
      "metadata": {
        "id": "P2kp37-9fjR6"
      },
      "source": [
        "**TO FIND A LIST OF RANDOM ELEMENTS**"
      ]
    },
    {
      "cell_type": "code",
      "metadata": {
        "colab": {
          "base_uri": "https://localhost:8080/"
        },
        "id": "WmIPKAnafly_",
        "outputId": "6db72c03-130f-4088-9238-5363148aadab"
      },
      "source": [
        "normal_array = np.random.normal(10,20.5,30)\n",
        "print(normal_array)"
      ],
      "execution_count": null,
      "outputs": [
        {
          "output_type": "stream",
          "text": [
            "[ 18.25814018   9.9403048    5.59957363  11.5022933  -23.17995981\n",
            " -22.02437646   5.93340834  -9.3157252    3.2615955   19.66173146\n",
            "  13.51169511  29.27980942 -13.98092215  -5.54437704  31.00321532\n",
            "  33.49113112   2.89528388   8.41963154  15.56372822  20.08590369\n",
            "  30.01282011  30.15015523  49.85763548  38.95901131   0.96037659\n",
            "   7.88905541  49.90935305  38.4682612   20.98785038  -5.02047288]\n"
          ],
          "name": "stdout"
        }
      ]
    },
    {
      "cell_type": "markdown",
      "metadata": {
        "id": "GNbq5ddbf4b3"
      },
      "source": [
        "**FIND MIN , MAX, MEAN, MEDIAN,STD FROM  LISTS**"
      ]
    },
    {
      "cell_type": "code",
      "metadata": {
        "colab": {
          "base_uri": "https://localhost:8080/"
        },
        "id": "MQFRfjAAf7XR",
        "outputId": "26d576f6-15f2-4db7-d30c-a6328f3b1d42"
      },
      "source": [
        "print(np.min(normal_array))\n",
        "print(np.max(normal_array))\n",
        "print(np.mean(normal_array))\n",
        "print(np.median(normal_array))\n",
        "print(np.std(normal_array))"
      ],
      "execution_count": null,
      "outputs": [
        {
          "output_type": "stream",
          "text": [
            "-23.179959809177525\n",
            "49.909353054259924\n",
            "13.884537690436053\n",
            "12.506994202983048\n",
            "18.92166716047016\n"
          ],
          "name": "stdout"
        }
      ]
    },
    {
      "cell_type": "markdown",
      "metadata": {
        "id": "Ui_LBjiOgDRr"
      },
      "source": [
        "**TO PRINT ELEMENTS IN RANGE**"
      ]
    },
    {
      "cell_type": "code",
      "metadata": {
        "colab": {
          "base_uri": "https://localhost:8080/"
        },
        "id": "MTA8UyxOgFD9",
        "outputId": "3da5f1e7-cdee-4e5a-caab-4e1be299cacd"
      },
      "source": [
        "np.arange(2, 10)"
      ],
      "execution_count": null,
      "outputs": [
        {
          "output_type": "execute_result",
          "data": {
            "text/plain": [
              "array([2, 3, 4, 5, 6, 7, 8, 9])"
            ]
          },
          "metadata": {
            "tags": []
          },
          "execution_count": 28
        }
      ]
    },
    {
      "cell_type": "code",
      "metadata": {
        "colab": {
          "base_uri": "https://localhost:8080/"
        },
        "id": "pOXyeEsUgJOp",
        "outputId": "cdd2109d-0069-46b7-9ef2-17eb46c89002"
      },
      "source": [
        "np.arange(1, 11,20)"
      ],
      "execution_count": null,
      "outputs": [
        {
          "output_type": "execute_result",
          "data": {
            "text/plain": [
              "array([1])"
            ]
          },
          "metadata": {
            "tags": []
          },
          "execution_count": 29
        }
      ]
    },
    {
      "cell_type": "code",
      "metadata": {
        "colab": {
          "base_uri": "https://localhost:8080/"
        },
        "id": "7VmWAaEQgQaq",
        "outputId": "97329d25-1e53-41ac-c0a6-bc848607d388"
      },
      "source": [
        "np.linspace(1.0, 20.0, num=30)"
      ],
      "execution_count": null,
      "outputs": [
        {
          "output_type": "execute_result",
          "data": {
            "text/plain": [
              "array([ 1.        ,  1.65517241,  2.31034483,  2.96551724,  3.62068966,\n",
              "        4.27586207,  4.93103448,  5.5862069 ,  6.24137931,  6.89655172,\n",
              "        7.55172414,  8.20689655,  8.86206897,  9.51724138, 10.17241379,\n",
              "       10.82758621, 11.48275862, 12.13793103, 12.79310345, 13.44827586,\n",
              "       14.10344828, 14.75862069, 15.4137931 , 16.06896552, 16.72413793,\n",
              "       17.37931034, 18.03448276, 18.68965517, 19.34482759, 20.        ])"
            ]
          },
          "metadata": {
            "tags": []
          },
          "execution_count": 30
        }
      ]
    },
    {
      "cell_type": "code",
      "metadata": {
        "colab": {
          "base_uri": "https://localhost:8080/"
        },
        "id": "XDXLmORmgTAd",
        "outputId": "45dbf1de-597f-4828-d7c8-2212bf528b34"
      },
      "source": [
        "np.linspace(1.0, 10.0, num=10, endpoint=False)"
      ],
      "execution_count": null,
      "outputs": [
        {
          "output_type": "execute_result",
          "data": {
            "text/plain": [
              "array([1. , 1.9, 2.8, 3.7, 4.6, 5.5, 6.4, 7.3, 8.2, 9.1])"
            ]
          },
          "metadata": {
            "tags": []
          },
          "execution_count": 31
        }
      ]
    },
    {
      "cell_type": "code",
      "metadata": {
        "colab": {
          "base_uri": "https://localhost:8080/"
        },
        "id": "WFmgYDSfgZG5",
        "outputId": "bf5927e2-bc35-4eaf-c37b-7a7222c4bb6d"
      },
      "source": [
        "np.logspace(10.0, 5.0, num=1)"
      ],
      "execution_count": null,
      "outputs": [
        {
          "output_type": "execute_result",
          "data": {
            "text/plain": [
              "array([1.e+10])"
            ]
          },
          "metadata": {
            "tags": []
          },
          "execution_count": 32
        }
      ]
    },
    {
      "cell_type": "code",
      "metadata": {
        "colab": {
          "base_uri": "https://localhost:8080/"
        },
        "id": "qyEI5IXugchy",
        "outputId": "e916c3d4-0057-4d13-9d67-b8cfc31f7b53"
      },
      "source": [
        "x = np.array([1,2,3], dtype=np.complex128)\n",
        "x.itemsize"
      ],
      "execution_count": null,
      "outputs": [
        {
          "output_type": "execute_result",
          "data": {
            "text/plain": [
              "16"
            ]
          },
          "metadata": {
            "tags": []
          },
          "execution_count": 33
        }
      ]
    },
    {
      "cell_type": "markdown",
      "metadata": {
        "id": "mWOkvUWkggzS"
      },
      "source": [
        "**TO FIND DOT PRODUCT OF MATRIX**"
      ]
    },
    {
      "cell_type": "code",
      "metadata": {
        "colab": {
          "base_uri": "https://localhost:8080/"
        },
        "id": "358Njb9Bhm_J",
        "outputId": "4353071a-ef56-4b24-b753-fd0a842231e7"
      },
      "source": [
        "f = np.array([1,2,3])\n",
        "g = np.array([4,5,6])\n",
        "### 1*4+2*5+3*1\n",
        "np.dot(f, g)"
      ],
      "execution_count": null,
      "outputs": [
        {
          "output_type": "execute_result",
          "data": {
            "text/plain": [
              "32"
            ]
          },
          "metadata": {
            "tags": []
          },
          "execution_count": 34
        }
      ]
    },
    {
      "cell_type": "markdown",
      "metadata": {
        "id": "O4J4EYvFhtwR"
      },
      "source": [
        "**TO FIND THE INVERSE OF MATRIX**"
      ]
    },
    {
      "cell_type": "code",
      "metadata": {
        "colab": {
          "base_uri": "https://localhost:8080/"
        },
        "id": "TRfiguqShvJj",
        "outputId": "c5044340-2a43-4108-8083-ac27581dc5dc"
      },
      "source": [
        "A = np.array([[-1, 10, 6],\n",
        "              [3, -2, 10],\n",
        "              [-2, 8, -7]])\n",
        "  \n",
        "# Calculating the inverse of the matrix\n",
        "print(np.linalg.inv(A))"
      ],
      "execution_count": null,
      "outputs": [
        {
          "output_type": "stream",
          "text": [
            "[[-0.33673469  0.60204082  0.57142857]\n",
            " [ 0.00510204  0.09693878  0.14285714]\n",
            " [ 0.10204082 -0.06122449 -0.14285714]]\n"
          ],
          "name": "stdout"
        }
      ]
    },
    {
      "cell_type": "markdown",
      "metadata": {
        "id": "rpJDMLuZh1Sm"
      },
      "source": [
        "**TO FIND THE MATRIX MULTIPLICATION**"
      ]
    },
    {
      "cell_type": "code",
      "metadata": {
        "colab": {
          "base_uri": "https://localhost:8080/"
        },
        "id": "lGV4lSZRh3SI",
        "outputId": "8b439b4f-c270-4bdc-aca3-721e7df584e9"
      },
      "source": [
        "h = [[2,4],[4,6]] \n",
        "i = [[6,8,],[8,10]] \n",
        "### 1*5+2*7 = 19\n",
        "np.matmul(h, i)"
      ],
      "execution_count": null,
      "outputs": [
        {
          "output_type": "execute_result",
          "data": {
            "text/plain": [
              "array([[44, 56],\n",
              "       [72, 92]])"
            ]
          },
          "metadata": {
            "tags": []
          },
          "execution_count": 37
        }
      ]
    },
    {
      "cell_type": "markdown",
      "metadata": {
        "id": "NQa4KRXsh9ha"
      },
      "source": [
        " **TO FIND THE DETERMINANT OF MATRIX**"
      ]
    },
    {
      "cell_type": "code",
      "metadata": {
        "colab": {
          "base_uri": "https://localhost:8080/"
        },
        "id": "VqNpclgmiA6q",
        "outputId": "1d21815d-c441-443c-aac8-37157d50e05d"
      },
      "source": [
        "n_array = np.array([[100, 29], [30, 90]])\n",
        "  \n",
        "# Displaying the Matrix\n",
        "print(\"Numpy Matrix is:\")\n",
        "print(n_array)\n",
        "  \n",
        "# calculating the determinant of matrix\n",
        "det = np.linalg.det(n_array)\n",
        "  \n",
        "print(\"\\nDeterminant of given 2X2 matrix:\")\n",
        "print(int(det))"
      ],
      "execution_count": null,
      "outputs": [
        {
          "output_type": "stream",
          "text": [
            "Numpy Matrix is:\n",
            "[[100  29]\n",
            " [ 30  90]]\n",
            "\n",
            "Determinant of given 2X2 matrix:\n",
            "8130\n"
          ],
          "name": "stdout"
        }
      ]
    },
    {
      "cell_type": "markdown",
      "metadata": {
        "id": "fWiZGM9CiIJJ"
      },
      "source": [
        "**TO FIND THE RANK OF MATRIX**"
      ]
    },
    {
      "cell_type": "code",
      "metadata": {
        "colab": {
          "base_uri": "https://localhost:8080/"
        },
        "id": "3wiQ6jiZiJX9",
        "outputId": "bc8ff0d6-6193-40c8-ae22-b0bd647aa152"
      },
      "source": [
        "mx = np.array([[2,1,1],[3,1,4],[11,4,9]])\n",
        "\n",
        "# Let's get rank of matrix \n",
        "np.linalg.matrix_rank(mx)"
      ],
      "execution_count": null,
      "outputs": [
        {
          "output_type": "execute_result",
          "data": {
            "text/plain": [
              "3"
            ]
          },
          "metadata": {
            "tags": []
          },
          "execution_count": 39
        }
      ]
    },
    {
      "cell_type": "markdown",
      "metadata": {
        "id": "4pu7JLtC5OAY"
      },
      "source": [
        "**TO FIND THE TRANSPOSE OF THE MATRIX**"
      ]
    },
    {
      "cell_type": "code",
      "metadata": {
        "colab": {
          "base_uri": "https://localhost:8080/"
        },
        "id": "Fw2oIrZiiTHT",
        "outputId": "0404b9fc-9d50-40a6-f381-ebe1eb0daabf"
      },
      "source": [
        "gfg = np.matrix('[2, 1; 11, 3]')\n",
        "              \n",
        "# applying matrix.transpose() method\n",
        "trans = gfg.transpose()\n",
        "    \n",
        "print(trans)"
      ],
      "execution_count": null,
      "outputs": [
        {
          "output_type": "stream",
          "text": [
            "[[ 2 11]\n",
            " [ 1  3]]\n"
          ],
          "name": "stdout"
        }
      ]
    },
    {
      "cell_type": "markdown",
      "metadata": {
        "id": "qQsijUVjidZi"
      },
      "source": [
        "**TO FIND THE TRACE OF MATRIX**"
      ]
    },
    {
      "cell_type": "code",
      "metadata": {
        "colab": {
          "base_uri": "https://localhost:8080/"
        },
        "id": "wbh4z2F9iiA5",
        "outputId": "0ad9eebe-4d2c-46bc-d5c8-016cb45562a9"
      },
      "source": [
        "gfg = np.matrix('[3, 2; 11, 3]')\n",
        "              \n",
        "# applying matrix.trace() method\n",
        "tracem = gfg.trace()\n",
        "    \n",
        "print(tracem)"
      ],
      "execution_count": null,
      "outputs": [
        {
          "output_type": "stream",
          "text": [
            "[[6]]\n"
          ],
          "name": "stdout"
        }
      ]
    },
    {
      "cell_type": "markdown",
      "metadata": {
        "id": "xol4EGcfipZA"
      },
      "source": [
        "**TO FIND THE EIGEN VALUES AND EIGEN VECTORS OF MATRIX**"
      ]
    },
    {
      "cell_type": "code",
      "metadata": {
        "colab": {
          "base_uri": "https://localhost:8080/"
        },
        "id": "cefO52g9iqya",
        "outputId": "ad81c25c-9481-4672-af8e-1429dedf6a1b"
      },
      "source": [
        "example_matrix = np.array([\n",
        "  [1,2,3,4],\n",
        "  [5,6,7,8],\n",
        "  [9,10,11,12],\n",
        "  [13,14,15,16]\n",
        "])\n",
        "eigenvalues, eigenvectors = np.linalg.eig(example_matrix)\n",
        "print(eigenvalues, eigenvectors)"
      ],
      "execution_count": null,
      "outputs": [
        {
          "output_type": "stream",
          "text": [
            "[ 3.62093727e+01 -2.20937271e+00 -5.14138333e-16 -2.08943529e-15] [[-0.15115432 -0.72704996  0.01790738 -0.26832672]\n",
            " [-0.34923733 -0.28320876  0.38415354  0.71367217]\n",
            " [-0.54732033  0.16063243 -0.82202921 -0.62236419]\n",
            " [-0.74540333  0.60447363  0.41996829  0.17701873]]\n"
          ],
          "name": "stdout"
        }
      ]
    }
  ]
}